{
 "cells": [
  {
   "cell_type": "markdown",
   "id": "9024743b",
   "metadata": {},
   "source": [
    "# **Dodo Alive ODrive**\n",
    "\n",
    "Author: Timm Plagge\n",
    "\n",
    "This Jupyter Notebook allows for easy testing of the ODrive, including visualizing data from the API in live graphs.\n",
    "To use this file, you will need the ODrive and Jupyter prerequisites. This should all come preinstalled if you use the\n",
    "Anaconda environment.\n",
    "\n",
    "*This code was tested with ODrive 0.5.4 (not firmware version, the ODrive Python package), for Windows and MacOS.*"
   ]
  },
  {
   "cell_type": "code",
   "execution_count": 1,
   "id": "3423d38b",
   "metadata": {},
   "outputs": [],
   "source": [
    "import matplotlib.pyplot as plt\n",
    "import odrive\n",
    "import time\n",
    "import sys\n",
    "import os\n",
    "\n",
    "# Import the Python scripts in the motor_testing folder. By default it is in the same parent directory as jupyter folder\n",
    "sys.path.append(os.path.abspath('../motor_testing'))\n",
    "\n",
    "# Since motor_config erases data and restarts the ODrive, do not use it in the Jupyter notebook\n",
    "# import motor_config\n",
    "import motor_calibration\n",
    "import test_closed_loop\n",
    "import state_idle"
   ]
  },
  {
   "cell_type": "code",
   "execution_count": 2,
   "id": "85002b91",
   "metadata": {},
   "outputs": [],
   "source": [
    "# Helper functions, do not edit\n",
    "\n",
    "# Returns interface to ODrive. Prints to screen if it finds the ODrive\n",
    "def find_ODrive():\n",
    "    odrv = odrive.find_any()\n",
    "    if odrv:\n",
    "        print(\"ODrive found\")\n",
    "    return odrv\n",
    "\n",
    "# Construct cum_data dictionary\n",
    "def init_data_dict(cmds: list[str]) -> dict[str, list[None]]:    \n",
    "    out_dict: dict[str, list[None]] = {key: [] for key in cmds}\n",
    "    out_dict['time'] = []\n",
    "    \n",
    "    return out_dict\n"
   ]
  },
  {
   "cell_type": "code",
   "execution_count": 3,
   "id": "91120218",
   "metadata": {},
   "outputs": [],
   "source": [
    "# User defined functions\n",
    "\n",
    "\"\"\"\n",
    "query_ODrive: Takes a list of commands, and tells the ODrive to do something.\n",
    "The actual implementation is here, the commands are listed in a cell below.\n",
    "Note that commands here are executed every loop of the plot code, do not add\n",
    "commands that should be run once here (there is another cell below for these)\n",
    "\n",
    "Arguments:\n",
    "    odrv : ODrive interface\n",
    "    cmds : List of commands as strings \n",
    "Returns:\n",
    "    data: Dictionary of output data. Keys are cmds, values are the data received (usually float or int)\n",
    "\"\"\" \n",
    "def query_ODrive(odrv, cmds: list[str]) -> dict[str, None]:\n",
    "    out: dict[str, None] = {}\n",
    "    \n",
    "    for c in cmds:\n",
    "        if c == 'odrv.dodo.Ialpha':\n",
    "            out['odrv.dodo.Ialpha'] = odrv.dodo.Ialpha\n",
    "        elif c == 'odrv.dodo.Ibeta':\n",
    "            out['odrv.dodo.Ibeta'] = odrv.dodo.Ibeta\n",
    "        elif c == 'odrv.axis0.motor.current_control.Ialpha_measured':\n",
    "            out['odrv.axis0.motor.current_control.Ialpha_measured'] = odrv.axis0.motor.current_control.Ialpha_measured\n",
    "        elif c == 'odrv.axis0.motor.current_control.Ibeta_measured':\n",
    "            out['odrv.axis0.motor.current_control.Ibeta_measured'] = odrv.axis0.motor.current_control.Ibeta_measured\n",
    "        elif c == 'odrv.axis0.motor.current_meas_phA':\n",
    "            out['odrv.axis0.motor.current_meas_phA'] = odrv.axis0.motor.current_meas_phA\n",
    "        elif c == 'odrv.axis0.motor.current_meas_phB':\n",
    "            out['odrv.axis0.motor.current_meas_phB'] = odrv.axis0.motor.current_meas_phB\n",
    "        else:\n",
    "            raise Exception('Unexpected command queried: {}. User must add these manually to query_ODrive function'.format(c))\n",
    "    \n",
    "        \n",
    "    return out"
   ]
  },
  {
   "cell_type": "code",
   "execution_count": null,
   "id": "f8ec9c24",
   "metadata": {},
   "outputs": [],
   "source": [
    "# Global variables\n",
    "\n",
    "# ODrive interface. Will print 'ODrive found if it finds the ODrive'\n",
    "odrv = find_ODrive()"
   ]
  },
  {
   "cell_type": "markdown",
   "id": "580ba8e7",
   "metadata": {},
   "source": [
    "# Single Use Commands\n",
    "\n",
    "The commands below should only be run once"
   ]
  },
  {
   "cell_type": "code",
   "execution_count": null,
   "id": "803d6945",
   "metadata": {},
   "outputs": [],
   "source": [
    "# It is probably a better idea to run motor calibration and config manually, instead of using this Jupyter cell.\n",
    "# If you don't set sleep, ODrive does not have time to run these commands before next command, will hang\n",
    "# Note that two processes cannot be connected to the ODrive at the same time (i.e. if this Jupyter kernel is running\n",
    "# and some Command Prompt.)\n",
    "motor_calibration.main()\n",
    "time.sleep(15)"
   ]
  },
  {
   "cell_type": "code",
   "execution_count": null,
   "id": "25a72861",
   "metadata": {},
   "outputs": [],
   "source": [
    "# Have the motor turn a few times.\n",
    "test_closed_loop.run(50)"
   ]
  },
  {
   "cell_type": "code",
   "execution_count": null,
   "id": "c781a736",
   "metadata": {},
   "outputs": [],
   "source": [
    "# The kill switch cell, make the motor stop. If this does not work (ex: you are querying data from the ODrive), unplug\n",
    "# power supply.\n",
    "\n",
    "state_idle.main()"
   ]
  },
  {
   "cell_type": "code",
   "execution_count": null,
   "id": "4c95e3a6",
   "metadata": {},
   "outputs": [],
   "source": [
    "# User variables\n",
    "\n",
    "# Commands to send to ODrive. Best to keep them as same name as actual command from ODrive API.\n",
    "cmds: list[str] = [\n",
    "    'odrv.axis0.motor.current_meas_phA',\n",
    "    'odrv.axis0.motor.current_meas_phB',\n",
    "    'odrv.axis0.motor.current_control.Ialpha_measured',\n",
    "    'odrv.axis0.motor.current_control.Ibeta_measured'\n",
    "]\n",
    "\n",
    "# Cumulative data from ODrive (i.e. data from all queries)\n",
    "# Also keeps a list of the relative time stamps of each query to the ODrive\n",
    "cum_data: dict[str, None] = init_data_dict(cmds)\n",
    "\n",
    "# Time delay between ODrive readings in seconds. Used for x-axis of plot as well\n",
    "# TODO: Add realtime measurements, the script is probably quite a bit slower than t_delay\n",
    "t_delay = 0.1\n",
    "time_passed = 0"
   ]
  },
  {
   "cell_type": "code",
   "execution_count": null,
   "id": "efd6fa11",
   "metadata": {
    "scrolled": false
   },
   "outputs": [],
   "source": [
    "%matplotlib notebook\n",
    "\n",
    "# User variables\n",
    "\n",
    "# Reset data when cell is run, or continue with previous data.\n",
    "reset_data = True\n",
    "\n",
    "# Add axes here if you want more plots, ex. fig, (ax1, ax2, ax3) = plt.subplots(3, 1)\n",
    "# figsize changes size of plot, adjust to your screen size\n",
    "fig, (ax1, ax2) = plt.subplots(2, 1, figsize=(7, 7))\n",
    "# Change figure size, use this to fit to your screen\n",
    "fig.figsize = [8, 8]\n",
    "\n",
    "# Limit X axis to a time range. If you record data longer, previous data will be cut off. Leave as None\n",
    "# if you would like to show the full data from the ODrive.\n",
    "x_range = 7\n",
    "\n",
    "# End of user variables\n",
    "\n",
    "# Do not edit these variables\n",
    "plt.ion()\n",
    "fig.show()\n",
    "fig.canvas.draw()\n",
    "\n",
    "if reset_data:\n",
    "    time_passed = 0\n",
    "    cum_data = {key: [] for key in cum_data}\n",
    "\n",
    "while True:\n",
    "    \n",
    "    # Query ODrive for data, and add to dictionary\n",
    "    cum_data['time'].append(time_passed)\n",
    "    data = query_ODrive(odrv, cmds)\n",
    "    for key, val in data.items():    \n",
    "        cum_data[key].append(val)\n",
    "    \n",
    "    # Test if cum_data looks correct\n",
    "    #print(cum_data)\n",
    "    \n",
    "    # Settings for the first plot\n",
    "    \n",
    "    #ax1.clear()\n",
    "    #ax1.set_title(\"Current Measurement Phase A\")\n",
    "    #ax1.plot(cum_data['time'], cum_data['odrv.axis0.motor.current_meas_phA'], label='Phase A')\n",
    "    #ax1.legend()\n",
    "    #fig.canvas.draw()\n",
    "    \n",
    "    ax1.clear()\n",
    "    ax1.set_title(\"Ialphabeta\")\n",
    "    ax1.plot(cum_data['time'], cum_data['odrv.axis0.motor.current_meas_phA'], label='Alpha')\n",
    "    ax1.plot(cum_data['time'], cum_data['odrv.axis0.motor.current_meas_phB'], label='Beta')\n",
    "    ax1.minorticks_on()\n",
    "    #ax.xaxis.set_tick_params(which='minor', bottom=False)\n",
    "    if x_range:\n",
    "        ax1.set_xlim(cum_data['time'] - x_range, cum_data['time'])\n",
    "    ax1.legend()\n",
    "    fig.canvas.draw()\n",
    "    \n",
    "    # Settings for the second plot\n",
    "    \n",
    "    #ax2.clear()\n",
    "    #ax2.set_title(\"Current Measurement Phase B\")\n",
    "    #ax2.plot(cum_data['time'], cum_data['odrv.axis0.motor.current_meas_phB'], label='Phase B')\n",
    "    #ax2.legend()\n",
    "    #fig.canvas.draw()\n",
    "    \n",
    "    ax2.clear()\n",
    "    ax2.set_title(\"Ibeta\")\n",
    "    ax2.plot(cum_data['time'], cum_data['odrv.axis0.motor.current_meas_phB'], label='Beta')\n",
    "    ax2.legend()\n",
    "    if x_range:\n",
    "        ax2.set_xlim(cum_data['time'] - x_range, cum_data['time'])\n",
    "    fig.canvas.draw()\n",
    "    \n",
    "    # Sleep and increment time passed\n",
    "    time.sleep(t_delay)\n",
    "    time_passed += t_delay\n",
    "    \n",
    "    "
   ]
  },
  {
   "cell_type": "code",
   "execution_count": null,
   "id": "e79efc8e",
   "metadata": {},
   "outputs": [],
   "source": [
    "# TODO: Add function that saves the data from cum_data to a json or txt file"
   ]
  },
  {
   "cell_type": "code",
   "execution_count": null,
   "id": "6fe3340b",
   "metadata": {},
   "outputs": [],
   "source": [
    "# TODO: Add feature that prints cum_data into a nice dataframe to look at"
   ]
  },
  {
   "cell_type": "code",
   "execution_count": null,
   "id": "ab6b2a05",
   "metadata": {},
   "outputs": [],
   "source": []
  }
 ],
 "metadata": {
  "kernelspec": {
   "display_name": "Python 3 (ipykernel)",
   "language": "python",
   "name": "python3"
  },
  "language_info": {
   "codemirror_mode": {
    "name": "ipython",
    "version": 3
   },
   "file_extension": ".py",
   "mimetype": "text/x-python",
   "name": "python",
   "nbconvert_exporter": "python",
   "pygments_lexer": "ipython3",
   "version": "3.9.7"
  }
 },
 "nbformat": 4,
 "nbformat_minor": 5
}
